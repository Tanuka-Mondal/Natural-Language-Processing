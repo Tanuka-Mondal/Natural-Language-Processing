{
  "nbformat": 4,
  "nbformat_minor": 0,
  "metadata": {
    "colab": {
      "provenance": [],
      "authorship_tag": "ABX9TyN66yaPd268BUi4GHrFHIF/",
      "include_colab_link": true
    },
    "kernelspec": {
      "name": "python3",
      "display_name": "Python 3"
    },
    "language_info": {
      "name": "python"
    }
  },
  "cells": [
    {
      "cell_type": "markdown",
      "metadata": {
        "id": "view-in-github",
        "colab_type": "text"
      },
      "source": [
        "<a href=\"https://colab.research.google.com/github/Tanuka-Mondal/Natural-Language-Processing/blob/main/stemming.ipynb\" target=\"_parent\"><img src=\"https://colab.research.google.com/assets/colab-badge.svg\" alt=\"Open In Colab\"/></a>"
      ]
    },
    {
      "cell_type": "code",
      "execution_count": 1,
      "metadata": {
        "id": "to_8zAuW9RX6"
      },
      "outputs": [],
      "source": [
        "from nltk.stem import PorterStemmer"
      ]
    },
    {
      "cell_type": "code",
      "source": [
        "ps = PorterStemmer()"
      ],
      "metadata": {
        "id": "ZmpCzah99fEj"
      },
      "execution_count": 2,
      "outputs": []
    },
    {
      "cell_type": "code",
      "source": [
        "data = [\"Like\",\"Liking\",\"Likes\"]"
      ],
      "metadata": {
        "id": "zUUQ97zU9lWb"
      },
      "execution_count": 3,
      "outputs": []
    },
    {
      "cell_type": "code",
      "source": [
        "for i in data:\n",
        "  print(i,\" : \",ps.stem(i))"
      ],
      "metadata": {
        "colab": {
          "base_uri": "https://localhost:8080/"
        },
        "id": "mJTGdBcG9xIh",
        "outputId": "07addbc0-1921-48a4-c94a-231b3566d308"
      },
      "execution_count": 5,
      "outputs": [
        {
          "output_type": "stream",
          "name": "stdout",
          "text": [
            "Like  :  like\n",
            "Liking  :  like\n",
            "Likes  :  like\n"
          ]
        }
      ]
    },
    {
      "cell_type": "code",
      "source": [
        "data2 = [\"Automate\",\"Automatic\",\"Automatically\"]\n",
        "for i in data2:\n",
        "  print(i,\" : \",ps.stem(i))"
      ],
      "metadata": {
        "colab": {
          "base_uri": "https://localhost:8080/"
        },
        "id": "gbgMWhIY-JEF",
        "outputId": "0ae353bb-17ed-4db5-a10f-29fecd42eae3"
      },
      "execution_count": 6,
      "outputs": [
        {
          "output_type": "stream",
          "name": "stdout",
          "text": [
            "Automate  :  autom\n",
            "Automatic  :  automat\n",
            "Automatically  :  automat\n"
          ]
        }
      ]
    },
    {
      "cell_type": "code",
      "source": [
        "from nltk.stem import LancasterStemmer"
      ],
      "metadata": {
        "id": "5HAXXs4U_3H0"
      },
      "execution_count": 8,
      "outputs": []
    },
    {
      "cell_type": "code",
      "source": [
        "ls = LancasterStemmer()"
      ],
      "metadata": {
        "id": "tsK5I9mKAIo4"
      },
      "execution_count": 9,
      "outputs": []
    },
    {
      "cell_type": "code",
      "source": [
        "for i in data:\n",
        "  print(i,\" : \",ls.stem(i))"
      ],
      "metadata": {
        "colab": {
          "base_uri": "https://localhost:8080/"
        },
        "id": "W4rVj9ULAPCJ",
        "outputId": "ca4b26f8-6fde-4bf3-cb8f-f51fab311c5c"
      },
      "execution_count": 10,
      "outputs": [
        {
          "output_type": "stream",
          "name": "stdout",
          "text": [
            "Like  :  lik\n",
            "Liking  :  lik\n",
            "Likes  :  lik\n"
          ]
        }
      ]
    },
    {
      "cell_type": "code",
      "source": [
        "for i in data2:\n",
        "  print(i,\" : \",ls.stem(i))"
      ],
      "metadata": {
        "colab": {
          "base_uri": "https://localhost:8080/"
        },
        "id": "Yfcc9vMFARPM",
        "outputId": "cfcf3545-d6ce-47f5-91b8-86fc115b4ea7"
      },
      "execution_count": 11,
      "outputs": [
        {
          "output_type": "stream",
          "name": "stdout",
          "text": [
            "Automate  :  autom\n",
            "Automatic  :  autom\n",
            "Automatically  :  autom\n"
          ]
        }
      ]
    }
  ]
}
