{
  "nbformat": 4,
  "nbformat_minor": 0,
  "metadata": {
    "colab": {
      "provenance": [],
      "authorship_tag": "ABX9TyOzAPhNP1E4/CSWVeUh93yK",
      "include_colab_link": true
    },
    "kernelspec": {
      "name": "python3",
      "display_name": "Python 3"
    },
    "language_info": {
      "name": "python"
    }
  },
  "cells": [
    {
      "cell_type": "markdown",
      "metadata": {
        "id": "view-in-github",
        "colab_type": "text"
      },
      "source": [
        "<a href=\"https://colab.research.google.com/github/Tanuka-Mondal/Natural-Language-Processing/blob/main/remove_stop_words.ipynb\" target=\"_parent\"><img src=\"https://colab.research.google.com/assets/colab-badge.svg\" alt=\"Open In Colab\"/></a>"
      ]
    },
    {
      "cell_type": "code",
      "execution_count": 1,
      "metadata": {
        "id": "349eRGIhFyVi"
      },
      "outputs": [],
      "source": [
        "from nltk.corpus import stopwords"
      ]
    },
    {
      "cell_type": "code",
      "source": [
        "import nltk\n",
        "nltk.download('stopwords')"
      ],
      "metadata": {
        "colab": {
          "base_uri": "https://localhost:8080/"
        },
        "id": "7xG0sxqkHOx1",
        "outputId": "ed777cb1-73c9-4b2f-dca6-f995cbcebacd"
      },
      "execution_count": 2,
      "outputs": [
        {
          "output_type": "stream",
          "name": "stderr",
          "text": [
            "[nltk_data] Downloading package stopwords to /root/nltk_data...\n",
            "[nltk_data]   Unzipping corpora/stopwords.zip.\n"
          ]
        },
        {
          "output_type": "execute_result",
          "data": {
            "text/plain": [
              "True"
            ]
          },
          "metadata": {},
          "execution_count": 2
        }
      ]
    },
    {
      "cell_type": "code",
      "source": [
        "sw = set(stopwords.words('english'))"
      ],
      "metadata": {
        "id": "OyZGUTO0Hi8n"
      },
      "execution_count": 3,
      "outputs": []
    },
    {
      "cell_type": "code",
      "source": [
        "print(sw )"
      ],
      "metadata": {
        "colab": {
          "base_uri": "https://localhost:8080/"
        },
        "id": "qZie7tZQHqTM",
        "outputId": "5315e54c-3a4b-434b-e8e2-841530089ff0"
      },
      "execution_count": 7,
      "outputs": [
        {
          "output_type": "stream",
          "name": "stdout",
          "text": [
            "{'during', 'do', 'needn', \"didn't\", \"doesn't\", 'up', 'same', 'doing', 'here', 'was', 'have', 'i', \"isn't\", 'which', 'both', 'before', 'out', 'what', 'myself', 're', \"shan't\", 'whom', 'on', 'its', 'wasn', 'couldn', 'why', 'through', 'that', \"shouldn't\", 'where', 'isn', \"that'll\", \"mustn't\", 'below', 'a', 'under', 'most', 'because', 'their', 'shouldn', 'didn', 'once', 'when', 'our', 'are', 'until', \"should've\", 'be', \"she's\", 'hadn', 'it', \"needn't\", 'all', \"you've\", 've', 'ours', 'having', 'now', 'more', 'such', 'further', 'shan', 'll', \"hadn't\", 'then', 'haven', 'if', \"wasn't\", 'he', 'of', 'am', 'wouldn', 'each', \"you'd\", 'nor', 'and', 'who', 'how', 'not', 'these', \"it's\", 'mustn', 'hasn', \"you'll\", 'them', 'herself', \"you're\", 'few', 'than', 'between', 'other', 'theirs', 'for', 'yourself', 'can', 'after', \"hasn't\", 'mightn', 'only', 'itself', 'don', 'me', 'been', 'the', 'into', 'his', \"won't\", 'does', 'is', 'off', 'has', 's', 'm', 'aren', 'doesn', 'so', 'did', 'while', 'your', 'won', 'about', 'those', \"aren't\", 'were', 'at', 'hers', 'y', \"don't\", 'we', 'but', 'there', 'himself', 'o', 'just', 'd', 'they', \"mightn't\", 'ourselves', 'you', 'him', 'down', 'she', 'with', 'themselves', \"couldn't\", 'against', 'being', 'again', 'an', 'ain', 'or', 'weren', 'by', 'to', 'any', 'own', 'some', 'will', 'above', 'yourselves', 'over', 'from', 'no', 'yours', 'her', 'in', 'very', 'as', \"haven't\", 'my', \"weren't\", 'had', 'ma', \"wouldn't\", 'should', 'this', 't', 'too'}\n"
          ]
        }
      ]
    },
    {
      "cell_type": "code",
      "source": [
        "nltk.download('punkt')"
      ],
      "metadata": {
        "colab": {
          "base_uri": "https://localhost:8080/"
        },
        "id": "mQ0gOwlOIs1M",
        "outputId": "edf867d8-fae7-4299-ffb7-5c718d58ddc9"
      },
      "execution_count": 8,
      "outputs": [
        {
          "output_type": "stream",
          "name": "stderr",
          "text": [
            "[nltk_data] Downloading package punkt to /root/nltk_data...\n",
            "[nltk_data]   Unzipping tokenizers/punkt.zip.\n"
          ]
        },
        {
          "output_type": "execute_result",
          "data": {
            "text/plain": [
              "True"
            ]
          },
          "metadata": {},
          "execution_count": 8
        }
      ]
    },
    {
      "cell_type": "code",
      "source": [
        "data = \"There is no universal list of “stop words” that is used by all NLP tools in common. In this article we will look at below topics: What are stop words? Stopwords are the words in any language which does not add much meaning to a sentence.\""
      ],
      "metadata": {
        "id": "MFIn7gOWHeuD"
      },
      "execution_count": 21,
      "outputs": []
    },
    {
      "cell_type": "code",
      "source": [
        "newdata = nltk.word_tokenize(data)"
      ],
      "metadata": {
        "id": "dFtIKkYgIw5J"
      },
      "execution_count": 22,
      "outputs": []
    },
    {
      "cell_type": "code",
      "source": [
        "newdata"
      ],
      "metadata": {
        "colab": {
          "base_uri": "https://localhost:8080/"
        },
        "id": "Z_-g4FqeJAIG",
        "outputId": "a8f1b421-520c-4c35-c2b1-adff1a2ea1ca"
      },
      "execution_count": 23,
      "outputs": [
        {
          "output_type": "execute_result",
          "data": {
            "text/plain": [
              "['There',\n",
              " 'is',\n",
              " 'no',\n",
              " 'universal',\n",
              " 'list',\n",
              " 'of',\n",
              " '“',\n",
              " 'stop',\n",
              " 'words',\n",
              " '”',\n",
              " 'that',\n",
              " 'is',\n",
              " 'used',\n",
              " 'by',\n",
              " 'all',\n",
              " 'NLP',\n",
              " 'tools',\n",
              " 'in',\n",
              " 'common',\n",
              " '.',\n",
              " 'In',\n",
              " 'this',\n",
              " 'article',\n",
              " 'we',\n",
              " 'will',\n",
              " 'look',\n",
              " 'at',\n",
              " 'below',\n",
              " 'topics',\n",
              " ':',\n",
              " 'What',\n",
              " 'are',\n",
              " 'stop',\n",
              " 'words',\n",
              " '?',\n",
              " 'Stopwords',\n",
              " 'are',\n",
              " 'the',\n",
              " 'words',\n",
              " 'in',\n",
              " 'any',\n",
              " 'language',\n",
              " 'which',\n",
              " 'does',\n",
              " 'not',\n",
              " 'add',\n",
              " 'much',\n",
              " 'meaning',\n",
              " 'to',\n",
              " 'a',\n",
              " 'sentence',\n",
              " '.']"
            ]
          },
          "metadata": {},
          "execution_count": 23
        }
      ]
    },
    {
      "cell_type": "code",
      "source": [
        "len(newdata)"
      ],
      "metadata": {
        "colab": {
          "base_uri": "https://localhost:8080/"
        },
        "id": "b8cMn9t8JCh4",
        "outputId": "e1ca86bc-96d9-4b4a-ad0a-30aa72a8c7e8"
      },
      "execution_count": 24,
      "outputs": [
        {
          "output_type": "execute_result",
          "data": {
            "text/plain": [
              "52"
            ]
          },
          "metadata": {},
          "execution_count": 24
        }
      ]
    },
    {
      "cell_type": "code",
      "source": [
        "for word in newdata:\n",
        "  if word in sw:\n",
        "    print(word)"
      ],
      "metadata": {
        "colab": {
          "base_uri": "https://localhost:8080/"
        },
        "id": "bl9afVAyJa3h",
        "outputId": "f75a5380-8cb4-4a2f-cc13-d10aaa7c4709"
      },
      "execution_count": 25,
      "outputs": [
        {
          "output_type": "stream",
          "name": "stdout",
          "text": [
            "is\n",
            "no\n",
            "of\n",
            "that\n",
            "is\n",
            "by\n",
            "all\n",
            "in\n",
            "this\n",
            "we\n",
            "will\n",
            "at\n",
            "below\n",
            "are\n",
            "are\n",
            "the\n",
            "in\n",
            "any\n",
            "which\n",
            "does\n",
            "not\n",
            "to\n",
            "a\n"
          ]
        }
      ]
    },
    {
      "cell_type": "code",
      "source": [
        "newdata2 = newdata"
      ],
      "metadata": {
        "id": "iO_i9Y-FKN1F"
      },
      "execution_count": 26,
      "outputs": []
    },
    {
      "cell_type": "code",
      "source": [
        "newdata2"
      ],
      "metadata": {
        "colab": {
          "base_uri": "https://localhost:8080/"
        },
        "id": "k3ZddvsqLHfU",
        "outputId": "062b9e47-0902-49ae-840f-041d7d59e824"
      },
      "execution_count": 27,
      "outputs": [
        {
          "output_type": "execute_result",
          "data": {
            "text/plain": [
              "['There',\n",
              " 'is',\n",
              " 'no',\n",
              " 'universal',\n",
              " 'list',\n",
              " 'of',\n",
              " '“',\n",
              " 'stop',\n",
              " 'words',\n",
              " '”',\n",
              " 'that',\n",
              " 'is',\n",
              " 'used',\n",
              " 'by',\n",
              " 'all',\n",
              " 'NLP',\n",
              " 'tools',\n",
              " 'in',\n",
              " 'common',\n",
              " '.',\n",
              " 'In',\n",
              " 'this',\n",
              " 'article',\n",
              " 'we',\n",
              " 'will',\n",
              " 'look',\n",
              " 'at',\n",
              " 'below',\n",
              " 'topics',\n",
              " ':',\n",
              " 'What',\n",
              " 'are',\n",
              " 'stop',\n",
              " 'words',\n",
              " '?',\n",
              " 'Stopwords',\n",
              " 'are',\n",
              " 'the',\n",
              " 'words',\n",
              " 'in',\n",
              " 'any',\n",
              " 'language',\n",
              " 'which',\n",
              " 'does',\n",
              " 'not',\n",
              " 'add',\n",
              " 'much',\n",
              " 'meaning',\n",
              " 'to',\n",
              " 'a',\n",
              " 'sentence',\n",
              " '.']"
            ]
          },
          "metadata": {},
          "execution_count": 27
        }
      ]
    },
    {
      "cell_type": "code",
      "source": [
        "for word in newdata2:\n",
        "  if word in sw:\n",
        "    newdata2.remove(word)"
      ],
      "metadata": {
        "id": "1BksOnW2KRpq"
      },
      "execution_count": 28,
      "outputs": []
    },
    {
      "cell_type": "code",
      "source": [
        "newdata2"
      ],
      "metadata": {
        "colab": {
          "base_uri": "https://localhost:8080/"
        },
        "id": "_3ITjSQIKXW4",
        "outputId": "ff951e39-cc29-4df8-8ca5-3a353157d800"
      },
      "execution_count": 29,
      "outputs": [
        {
          "output_type": "execute_result",
          "data": {
            "text/plain": [
              "['There',\n",
              " 'no',\n",
              " 'universal',\n",
              " 'list',\n",
              " '“',\n",
              " 'stop',\n",
              " 'words',\n",
              " '”',\n",
              " 'is',\n",
              " 'used',\n",
              " 'all',\n",
              " 'NLP',\n",
              " 'tools',\n",
              " 'common',\n",
              " '.',\n",
              " 'In',\n",
              " 'article',\n",
              " 'will',\n",
              " 'look',\n",
              " 'below',\n",
              " 'topics',\n",
              " ':',\n",
              " 'What',\n",
              " 'stop',\n",
              " 'words',\n",
              " '?',\n",
              " 'Stopwords',\n",
              " 'the',\n",
              " 'words',\n",
              " 'any',\n",
              " 'language',\n",
              " 'does',\n",
              " 'add',\n",
              " 'much',\n",
              " 'meaning',\n",
              " 'a',\n",
              " 'sentence',\n",
              " '.']"
            ]
          },
          "metadata": {},
          "execution_count": 29
        }
      ]
    },
    {
      "cell_type": "code",
      "source": [
        "len(newdata2)"
      ],
      "metadata": {
        "colab": {
          "base_uri": "https://localhost:8080/"
        },
        "id": "eZuzQPxlLUAe",
        "outputId": "208e1bcc-48ed-4f92-adec-6b34ed29d336"
      },
      "execution_count": 30,
      "outputs": [
        {
          "output_type": "execute_result",
          "data": {
            "text/plain": [
              "38"
            ]
          },
          "metadata": {},
          "execution_count": 30
        }
      ]
    }
  ]
}